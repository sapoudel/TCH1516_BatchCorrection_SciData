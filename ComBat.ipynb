{
 "cells": [
  {
   "cell_type": "markdown",
   "metadata": {},
   "source": [
    "# Batch Correction with ComBat\n",
    "This notebook takes TPM of samples with batch effects and removes them with ComBat package\n",
    "\n",
    "It is used and shared as part of the publication:\n",
    "\n",
    "    Characterization of CA-MRSA TCH1516 exposed to Nafcillin in \n",
    "    Bacteriological and Physiological Media"
   ]
  },
  {
   "cell_type": "code",
   "execution_count": 1,
   "metadata": {
    "ExecuteTime": {
     "end_time": "2019-01-17T00:49:46.200184Z",
     "start_time": "2019-01-17T00:49:43.511Z"
    }
   },
   "outputs": [],
   "source": [
    "suppressPackageStartupMessages(library('sva'))\n",
    "suppressPackageStartupMessages(library('limma'))"
   ]
  },
  {
   "cell_type": "markdown",
   "metadata": {},
   "source": [
    "# Load and QC\n",
    "- Load the TPM data\n",
    "- Remove any points with N/A and genes whose expression level are low across all conditions"
   ]
  },
  {
   "cell_type": "code",
   "execution_count": 3,
   "metadata": {
    "ExecuteTime": {
     "end_time": "2019-01-17T00:50:03.924172Z",
     "start_time": "2019-01-17T00:50:03.863Z"
    }
   },
   "outputs": [
    {
     "name": "stdout",
     "output_type": "stream",
     "text": [
      "Number of Genes: 2486 \n",
      " Number of Samples: 18"
     ]
    }
   ],
   "source": [
    "data <- read.csv('pub_tpm.csv', row.names='', check.names=FALSE)\n",
    "data <- log2(data + 1)\n",
    "data <- data[complete.cases(data),]\n",
    "cat('Number of Genes:', nrow(data), '\\n', 'Number of Samples:', ncol(data))"
   ]
  },
  {
   "cell_type": "markdown",
   "metadata": {},
   "source": [
    "# calc_combat \n",
    "Takes in `data` (log TPM), subsets based on `condition` and runs ComBat\n",
    "\n",
    "Returns ComBat adjusted log TPM values"
   ]
  },
  {
   "cell_type": "code",
   "execution_count": 4,
   "metadata": {
    "ExecuteTime": {
     "end_time": "2019-01-17T00:50:13.904702Z",
     "start_time": "2019-01-17T00:50:13.894Z"
    },
    "scrolled": false
   },
   "outputs": [],
   "source": [
    "calc_combat <- function(data, condition) {\n",
    "    conc <- c()\n",
    "    sample <- c()\n",
    "    batch <- c()\n",
    "    media <- c()\n",
    "    for (i in colnames(data)) {\n",
    "        # get all CAMHB\n",
    "        if (grepl(condition, i)) {\n",
    "            names <- strsplit(i, ' ')[[1]]\n",
    "            conc <- c(conc, names[2])\n",
    "            media <- c(media, names[1])\n",
    "            batch <- c(batch,names[4])\n",
    "            sample <- c(sample, i[1])\n",
    "        }\n",
    "    }\n",
    "\n",
    "    df <- data.frame(Sample<-sample,\n",
    "                   Naf<-conc,\n",
    "                   Batch<-batch,\n",
    "                   Media<-media)\n",
    "    df$Interaction <- factor(paste0(df$Media, df$Naf))\n",
    "\n",
    "    mod <- model.matrix(~as.factor(Interaction), data=df)\n",
    "    combat <- ComBat(dat=as.matrix(data[,colnames(data) %in% df$Sample]), \n",
    "                    batch=df$Batch, mod=mod,\n",
    "                   par.prior=TRUE, prior.plots=FALSE)\n",
    "    }"
   ]
  },
  {
   "cell_type": "code",
   "execution_count": 5,
   "metadata": {
    "ExecuteTime": {
     "end_time": "2019-01-17T00:50:15.440888Z",
     "start_time": "2019-01-17T00:50:15.259Z"
    },
    "scrolled": true
   },
   "outputs": [
    {
     "name": "stderr",
     "output_type": "stream",
     "text": [
      "Found3batches\n",
      "Adjusting for2covariate(s) or covariate level(s)\n"
     ]
    },
    {
     "name": "stdout",
     "output_type": "stream",
     "text": [
      "Standardizing Data across genes\n"
     ]
    },
    {
     "name": "stderr",
     "output_type": "stream",
     "text": [
      "Fitting L/S model and finding priors\n",
      "Finding parametric adjustments\n",
      "Adjusting the Data\n",
      "\n",
      "Found3batches\n",
      "Adjusting for2covariate(s) or covariate level(s)\n"
     ]
    },
    {
     "name": "stdout",
     "output_type": "stream",
     "text": [
      "Standardizing Data across genes\n"
     ]
    },
    {
     "name": "stderr",
     "output_type": "stream",
     "text": [
      "Fitting L/S model and finding priors\n",
      "Finding parametric adjustments\n",
      "Adjusting the Data\n",
      "\n"
     ]
    }
   ],
   "source": [
    "#remove batch effect from each of the dataset\n",
    "combat_r10lb <- calc_combat(data, 'R10LB')\n",
    "combat_camhb <- calc_combat(data, 'CAMHB')"
   ]
  },
  {
   "cell_type": "code",
   "execution_count": 6,
   "metadata": {
    "ExecuteTime": {
     "end_time": "2019-01-17T00:50:18.654670Z",
     "start_time": "2019-01-17T00:50:18.612Z"
    }
   },
   "outputs": [],
   "source": [
    "#merge the two datasets\n",
    "combat_tpm <- merge(combat_camhb, combat_r10lb, by=0)\n",
    "rownames(combat_tpm) <- combat_tpm$Row.names\n",
    "combat_tpm <- combat_tpm[,!colnames(combat_tpm) %in% c('Row.names')]"
   ]
  },
  {
   "cell_type": "code",
   "execution_count": 10,
   "metadata": {
    "ExecuteTime": {
     "end_time": "2019-01-17T00:51:35.701386Z",
     "start_time": "2019-01-17T00:51:35.647Z"
    }
   },
   "outputs": [],
   "source": [
    "write.csv(combat_tpm, 'combat_tpm.csv')"
   ]
  },
  {
   "cell_type": "code",
   "execution_count": 9,
   "metadata": {
    "ExecuteTime": {
     "end_time": "2019-01-17T00:50:29.476556Z",
     "start_time": "2019-01-17T00:50:29.419Z"
    }
   },
   "outputs": [
    {
     "data": {
      "text/plain": [
       "R version 3.5.1 (2018-07-02)\n",
       "Platform: x86_64-pc-linux-gnu (64-bit)\n",
       "Running under: Ubuntu 16.04.5 LTS\n",
       "\n",
       "Matrix products: default\n",
       "BLAS: /home/saugat/anaconda3/envs/RNAseqPipeline/lib/R/lib/libRblas.so\n",
       "LAPACK: /home/saugat/anaconda3/envs/RNAseqPipeline/lib/R/lib/libRlapack.so\n",
       "\n",
       "locale:\n",
       " [1] LC_CTYPE=en_US.UTF-8       LC_NUMERIC=C              \n",
       " [3] LC_TIME=en_US.UTF-8        LC_COLLATE=en_US.UTF-8    \n",
       " [5] LC_MONETARY=en_US.UTF-8    LC_MESSAGES=en_US.UTF-8   \n",
       " [7] LC_PAPER=en_US.UTF-8       LC_NAME=C                 \n",
       " [9] LC_ADDRESS=C               LC_TELEPHONE=C            \n",
       "[11] LC_MEASUREMENT=en_US.UTF-8 LC_IDENTIFICATION=C       \n",
       "\n",
       "attached base packages:\n",
       "[1] stats     graphics  grDevices utils     datasets  methods   base     \n",
       "\n",
       "other attached packages:\n",
       "[1] limma_3.36.3        sva_3.28.0          BiocParallel_1.14.2\n",
       "[4] genefilter_1.62.0   mgcv_1.8-24         nlme_3.1-137       \n",
       "[7] jsonlite_1.5        formatR_1.5        \n",
       "\n",
       "loaded via a namespace (and not attached):\n",
       " [1] Rcpp_0.12.18         compiler_3.5.1       base64enc_0.1-3     \n",
       " [4] bitops_1.0-6         tools_3.5.1          bit_1.1-14          \n",
       " [7] digest_0.6.15        uuid_0.1-2           memoise_1.1.0       \n",
       "[10] annotate_1.58.0      evaluate_0.11        RSQLite_2.1.1       \n",
       "[13] lattice_0.20-35      Matrix_1.2-14        IRdisplay_0.5.0     \n",
       "[16] DBI_1.0.0            IRkernel_0.8.11      parallel_3.5.1      \n",
       "[19] repr_0.15.0          stringr_1.3.1        IRanges_2.14.11     \n",
       "[22] S4Vectors_0.18.3     bit64_0.9-7          stats4_3.5.1        \n",
       "[25] grid_3.5.1           Biobase_2.40.0       AnnotationDbi_1.42.1\n",
       "[28] survival_2.42-3      XML_3.98-1.16        pbdZMQ_0.3-3        \n",
       "[31] blob_1.1.1           magrittr_1.5         matrixStats_0.54.0  \n",
       "[34] splines_3.5.1        htmltools_0.3.6      BiocGenerics_0.26.0 \n",
       "[37] xtable_1.8-2         stringi_1.2.4        RCurl_1.95-4.11     \n",
       "[40] crayon_1.3.4        "
      ]
     },
     "metadata": {},
     "output_type": "display_data"
    }
   ],
   "source": [
    "sessionInfo()"
   ]
  }
 ],
 "metadata": {
  "kernelspec": {
   "display_name": "R",
   "language": "R",
   "name": "ir"
  },
  "language_info": {
   "codemirror_mode": "r",
   "file_extension": ".r",
   "mimetype": "text/x-r-source",
   "name": "R",
   "pygments_lexer": "r",
   "version": "3.5.1"
  }
 },
 "nbformat": 4,
 "nbformat_minor": 2
}
